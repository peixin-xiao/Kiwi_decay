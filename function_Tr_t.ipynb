{
 "cells": [
  {
   "cell_type": "code",
   "execution_count": 1,
   "id": "d8c9a180",
   "metadata": {},
   "outputs": [],
   "source": [
    "import numpy as np\n",
    "from io import StringIO\n",
    "import matplotlib.pyplot as plt\n",
    "import math\n"
   ]
  },
  {
   "cell_type": "code",
   "execution_count": 62,
   "id": "be828db4-2b97-4e80-811f-33005991e7d9",
   "metadata": {},
   "outputs": [],
   "source": [
    "class calculate_miu_s(object):\n",
    "    \n",
    "    def __init__(self, h, y, time_index):\n",
    "        self.h = h\n",
    "        self.y = y\n",
    "        self.time = time_index\n",
    "        return None\n",
    "    \n",
    "    def transmittance(self, d, t, c, g, miu_a, miu_s):\n",
    "        miu_s_prime = (1-g)*miu_s\n",
    "        Z0 = 1/(miu_s_prime)\n",
    "        D = 1/(3*(miu_a + miu_s_prime))\n",
    "        h1 = math.pow(4*math.pi*D*c, -0.5)\n",
    "        h2 = math.pow(t, -1.5)*math.exp(-miu_a*c*t)\n",
    "        h3 = (d-Z0)*math.exp(-(math.pow(d-Z0, 2))/(4*D*c*t))\n",
    "        h4 = (d+Z0)*math.exp(-(math.pow(d+Z0, 2))/(4*D*c*t))\n",
    "        h5 = (3*d-Z0)*math.exp(-(math.pow(3*d-Z0, 2))/(4*D*c*t))\n",
    "        h6 = (3*d+Z0)*math.exp(-(math.pow(3*d+Z0, 2))/(4*D*c*t))\n",
    "    #     return d,Z0,D,c,t\n",
    "        return h1*h2*(h3-h4+h5-h6)\n",
    "    \n",
    "    \n",
    "    def error_cal(self, x):\n",
    "        miu_s = x[0]\n",
    "        miu_a = x[1]  \n",
    "        # miu_a = 0.01e2\n",
    "        g = 0.7\n",
    "        d = 0.01\n",
    "        # t = 300e-12\n",
    "        c = 3e8/1.3314\n",
    "        T = int(480)\n",
    "#         time = np.array(range(1,T, 1))\n",
    "#         time = time*1e-8*0.010345058455114822\n",
    "        time = self.time*1e-9\n",
    "        miu_s = miu_s*1e4\n",
    "        intensity1 = np.zeros((T, ), dtype = float)\n",
    "        for i in range(time.shape[0] - 1):\n",
    "\n",
    "            intensity1[i] = calculate_miu_s.transmittance(self, d, time[i], c, g, miu_a, miu_s)\n",
    "        \n",
    "        y2 = np.convolve(intensity1, self.h)\n",
    "        self.intensity = intensity1\n",
    "        self.y_convolved = y2\n",
    "        y2 = y2/max(y2)\n",
    "        return np.sum(abs(y2 - self.y))\n",
    "#         return time\n",
    "\n",
    "    def get_convolved_signal(self):\n",
    "        return self.y_convolved\n",
    "        \n",
    "    def get_x(self):\n",
    "        return self.intensity"
   ]
  },
  {
   "cell_type": "code",
   "execution_count": 3,
   "id": "7c3e0836",
   "metadata": {},
   "outputs": [],
   "source": [
    "\n",
    "def transmittance(d, t, c, Z0, D, miu_a):\n",
    "    h1 = math.pow(4*math.pi*D*c, -0.5)\n",
    "    h2 = math.pow(t, -1.5)*math.exp(-miu_a*c*t)\n",
    "    h3 = (d-Z0)*math.exp(-(math.pow(d-Z0, 2))/(4*D*c*t))\n",
    "    h4 = (d+Z0)*math.exp(-(math.pow(d+Z0, 2))/(4*D*c*t))\n",
    "    h5 = (3*d-Z0)*math.exp(-(math.pow(3*d-Z0, 2))/(4*D*c*t))\n",
    "    h6 = (3*d+Z0)*math.exp(-(math.pow(3*d+Z0, 2))/(4*D*c*t))\n",
    "#     return d,Z0,D,c,t\n",
    "    return h1*h2*(h3-h4+h5-h6)"
   ]
  },
  {
   "cell_type": "code",
   "execution_count": 4,
   "id": "898d0eab",
   "metadata": {},
   "outputs": [],
   "source": [
    "miu_a = 0.01e2\n",
    "miu_s = 1e5 # miu_s should >=10e2\n",
    "g = 0.7\n",
    "miu_s_prime = (1-g)*miu_s\n",
    "d = 0.01\n",
    "# t = 300e-12\n",
    "c = 3e8/1.3314\n",
    "Z0 = 1/(miu_s_prime)\n",
    "D = 1/(3*(miu_a + miu_s_prime))"
   ]
  },
  {
   "cell_type": "code",
   "execution_count": 5,
   "id": "fb6ddcc9",
   "metadata": {},
   "outputs": [],
   "source": [
    "T = int(480)\n",
    "time = np.array(range(1,T, 1))\n",
    "time = time*1e-8*0.010345058455114822\n",
    "batch = 1"
   ]
  },
  {
   "cell_type": "code",
   "execution_count": 6,
   "id": "5bdcbdf1",
   "metadata": {},
   "outputs": [
    {
     "data": {
      "image/png": "[encoded data removed]",
      "text/plain": [
       "<Figure size 432x288 with 1 Axes>"
      ]
     },
     "metadata": {},
     "output_type": "display_data"
    }
   ],
   "source": [
    "miu_s_series = np.array([0.3])*1e5\n",
    "intensity1 = np.zeros((T, batch), dtype = float)\n",
    "for j in range(0, batch):\n",
    "    miu_a = 0.01e2\n",
    "    miu_s = miu_s_series[j] # miu_s should >=10e2\n",
    "    g = 0.7\n",
    "    miu_s_prime = (1-g)*miu_s\n",
    "    d = 0.01\n",
    "    # t = 300e-12\n",
    "    c = 3e8/1.3314\n",
    "    Z0 = 1/(miu_s_prime)\n",
    "    D = 1/(3*(miu_a + miu_s_prime))\n",
    "    for i in range(time.shape[0] - 1):\n",
    "        \n",
    "        intensity1[i, j] = transmittance(d, time[i], c, Z0, D, miu_a)\n",
    "    \n",
    "plt.plot(intensity1)\n",
    "for j in range(0, batch):\n",
    "    plt.plot(intensity1[:, j])\n",
    "plt.show()\n"
   ]
  },
  {
   "cell_type": "code",
   "execution_count": 8,
   "id": "50e7ff69",
   "metadata": {},
   "outputs": [],
   "source": [
    "s0 = process_hyperspec('ref_real_5ns.txt', 0)"
   ]
  },
  {
   "cell_type": "code",
   "execution_count": 9,
   "id": "e55c8157",
   "metadata": {},
   "outputs": [],
   "source": [
    "s0.read_data()\n",
    "h = s0.cal_846nm()\n",
    "dataframe0 = s0.return_dataframe()\n",
    "x = np.convolve(intensity1[:, 0], h)"
   ]
  },
  {
   "cell_type": "code",
   "execution_count": 10,
   "id": "e39cca02",
   "metadata": {},
   "outputs": [
    {
     "data": {
      "image/png": "[encoded data removed]",
      "text/plain": [
       "<Figure size 432x288 with 1 Axes>"
      ]
     },
     "metadata": {},
     "output_type": "display_data"
    }
   ],
   "source": [
    "plt.plot(x)\n",
    "plt.show()"
   ]
  },
  {
   "cell_type": "code",
   "execution_count": 83,
   "id": "1bab7fde",
   "metadata": {},
   "outputs": [],
   "source": []
  },
  {
   "cell_type": "code",
   "execution_count": 84,
   "id": "d18f0d2d",
   "metadata": {},
   "outputs": [],
   "source": []
  },
  {
   "cell_type": "code",
   "execution_count": 85,
   "id": "62851a35",
   "metadata": {},
   "outputs": [
    {
     "data": {
      "image/png": "[encoded data removed]",
      "text/plain": [
       "<Figure size 432x288 with 1 Axes>"
      ]
     },
     "metadata": {},
     "output_type": "display_data"
    }
   ],
   "source": []
  },
  {
   "cell_type": "code",
   "execution_count": 86,
   "id": "1e222cbd",
   "metadata": {},
   "outputs": [
    {
     "data": {
      "image/png": "[encoded data removed]",
      "text/plain": [
       "<Figure size 432x288 with 1 Axes>"
      ]
     },
     "metadata": {},
     "output_type": "display_data"
    }
   ],
   "source": []
  },
  {
   "cell_type": "code",
   "execution_count": 87,
   "id": "a4b9c3f5",
   "metadata": {},
   "outputs": [
    {
     "data": {
      "text/plain": [
       "0.146875"
      ]
     },
     "execution_count": 87,
     "metadata": {},
     "output_type": "execute_result"
    }
   ],
   "source": []
  },
  {
   "cell_type": "code",
   "execution_count": 88,
   "id": "8e4508c6",
   "metadata": {},
   "outputs": [],
   "source": []
  },
  {
   "cell_type": "code",
   "execution_count": 91,
   "id": "e71426c3",
   "metadata": {},
   "outputs": [
    {
     "data": {
      "image/png": "[encoded data removed]",
      "text/plain": [
       "<Figure size 432x288 with 1 Axes>"
      ]
     },
     "metadata": {},
     "output_type": "display_data"
    }
   ],
   "source": []
  },
  {
   "cell_type": "code",
   "execution_count": 37,
   "id": "86249091",
   "metadata": {},
   "outputs": [],
   "source": []
  },
  {
   "cell_type": "code",
   "execution_count": 3,
   "id": "ef87603c",
   "metadata": {},
   "outputs": [],
   "source": []
  },
  {
   "cell_type": "code",
   "execution_count": 4,
   "id": "905885af",
   "metadata": {},
   "outputs": [],
   "source": []
  },
  {
   "cell_type": "code",
   "execution_count": 5,
   "id": "056dcfff",
   "metadata": {},
   "outputs": [
    {
     "data": {
      "text/plain": [
       "(Matrix([\n",
       " [1, 0, 0, 2],\n",
       " [0, 1, 0, 0],\n",
       " [0, 0, 1, 1],\n",
       " [0, 0, 0, 0],\n",
       " [0, 0, 0, 0]]), (0, 1, 2))"
      ]
     },
     "execution_count": 5,
     "metadata": {},
     "output_type": "execute_result"
    }
   ],
   "source": []
  },
  {
   "cell_type": "code",
   "execution_count": 6,
   "id": "285a1967",
   "metadata": {},
   "outputs": [
    {
     "data": {
      "text/plain": [
       "(array([[-0.60485091,  0.63968685, -0.45472441, -0.11906995, -0.06327847],\n",
       "        [-0.48350678,  0.13826764,  0.83764474, -0.10005204,  0.18826613],\n",
       "        [-0.57550707, -0.55300248, -0.13238325,  0.55731394, -0.18669686],\n",
       "        [-0.24034086, -0.47879981, -0.11396056, -0.81447176, -0.19140466],\n",
       "        [-0.10679162, -0.1913682 , -0.24711267, -0.04299829,  0.94289991]]),\n",
       " array([1.03057316e+01, 3.48991019e+00, 2.36905549e+00, 2.75186313e-16]),\n",
       " array([[-3.25748186e-01, -2.75756779e-01, -2.24534721e-01,\n",
       "         -8.76031094e-01],\n",
       "        [ 4.70669235e-01, -3.35252712e-01, -8.04598144e-01,\n",
       "          1.36740327e-01],\n",
       "        [ 7.54448363e-02,  9.00868369e-01, -3.68156650e-01,\n",
       "         -2.17266978e-01],\n",
       "        [ 8.16496581e-01, -1.15814445e-16,  4.08248290e-01,\n",
       "         -4.08248290e-01]]))"
      ]
     },
     "execution_count": 6,
     "metadata": {},
     "output_type": "execute_result"
    }
   ],
   "source": []
  },
  {
   "cell_type": "code",
   "execution_count": 38,
   "id": "8003d679",
   "metadata": {},
   "outputs": [
    {
     "data": {
      "text/plain": [
       "(array([[-0.6072903 ,  0.65311369, -0.4326018 , -0.06689316, -0.11411399],\n",
       "        [-0.48012659,  0.10686536,  0.83938827, -0.20587855,  0.10535467],\n",
       "        [-0.57880104, -0.54704891, -0.13937174,  0.57082463,  0.14304403],\n",
       "        [-0.23209754, -0.47010909, -0.13179163, -0.56092803, -0.62699194],\n",
       "        [-0.10861417, -0.20434589, -0.26737521, -0.55915858,  0.74986525]]),\n",
       " array([10.29510215,  3.55608193,  2.45389505,  0.05959968]),\n",
       " array([[-0.33235747, -0.28518145, -0.22535705, -0.87030124],\n",
       "        [ 0.47561734, -0.3620921 , -0.78911157,  0.141352  ],\n",
       "        [ 0.08082629,  0.8874183 , -0.39765808, -0.21868682],\n",
       "        [-0.81042814, -0.00704364, -0.41034764,  0.41805674]]))"
      ]
     },
     "execution_count": 38,
     "metadata": {},
     "output_type": "execute_result"
    }
   ],
   "source": [
    "a3 = np.concatenate((c,d),axis = 1)\n",
    "a3_svd  = np.linalg.svd(np.array(a3))\n",
    "a3_svd"
   ]
  },
  {
   "cell_type": "code",
   "execution_count": 40,
   "id": "b607280f",
   "metadata": {},
   "outputs": [],
   "source": [
    "U = a3_svd[0]\n",
    "SIGMA = np.zeros((5,4))\n",
    "SIGMA[0:4,0:4] = np.diag(a3_svd[1])\n",
    "V = a3_svd[2]"
   ]
  },
  {
   "cell_type": "code",
   "execution_count": 41,
   "id": "5a256b55",
   "metadata": {},
   "outputs": [
    {
     "data": {
      "text/plain": [
       "array([[ 3.10000000e+00,  8.88178420e-16,  1.33226763e-15,\n",
       "         6.00000000e+00],\n",
       "       [ 2.00000000e+00,  3.10000000e+00, -5.55111512e-17,\n",
       "         3.90000000e+00],\n",
       "       [ 1.00000000e+00,  2.10000000e+00,  3.00000000e+00,\n",
       "         5.00000000e+00],\n",
       "       [ 5.55111512e-16,  1.00000000e+00,  2.00000000e+00,\n",
       "         1.90000000e+00],\n",
       "       [ 2.77555756e-16,  1.66533454e-16,  1.10000000e+00,\n",
       "         1.00000000e+00]])"
      ]
     },
     "execution_count": 41,
     "metadata": {},
     "output_type": "execute_result"
    }
   ],
   "source": [
    "np.matmul(np.matmul(U,SIGMA), V)"
   ]
  },
  {
   "cell_type": "code",
   "execution_count": 42,
   "id": "27a2fb3b",
   "metadata": {},
   "outputs": [
    {
     "data": {
      "text/plain": [
       "array([[ 3.10000000e+00,  8.88178420e-16,  1.33226763e-15,\n",
       "         6.00000000e+00],\n",
       "       [ 2.00000000e+00,  3.10000000e+00, -5.55111512e-17,\n",
       "         3.90000000e+00],\n",
       "       [ 1.00000000e+00,  2.10000000e+00,  3.00000000e+00,\n",
       "         5.00000000e+00]])"
      ]
     },
     "execution_count": 42,
     "metadata": {},
     "output_type": "execute_result"
    }
   ],
   "source": [
    "n1 = np.matmul(np.matmul(U[0:3,:],SIGMA), V)\n",
    "n1"
   ]
  },
  {
   "cell_type": "code",
   "execution_count": 43,
   "id": "f89af58f",
   "metadata": {},
   "outputs": [],
   "source": [
    "n2 = syp.Matrix(n1)"
   ]
  },
  {
   "cell_type": "code",
   "execution_count": 44,
   "id": "dd0ecfe0",
   "metadata": {},
   "outputs": [
    {
     "data": {
      "text/plain": [
       "(Matrix([\n",
       " [1, 0, 0,    1.93548387096774],\n",
       " [0, 1, 0, 0.00936524453694097],\n",
       " [0, 0, 1,    1.01494970516823]]), (0, 1, 2))"
      ]
     },
     "execution_count": 44,
     "metadata": {},
     "output_type": "execute_result"
    }
   ],
   "source": [
    "n2.rref()"
   ]
  },
  {
   "cell_type": "code",
   "execution_count": 48,
   "id": "b649a0ca",
   "metadata": {},
   "outputs": [
    {
     "data": {
      "text/plain": [
       "(Matrix([\n",
       " [  1,   0, 0,   2.10090909090909],\n",
       " [  0,   1, 0, 0.0818181818181817],\n",
       " [0.0, 0.0, 1,  0.909090909090909]]), (0, 1, 2))"
      ]
     },
     "execution_count": 48,
     "metadata": {},
     "output_type": "execute_result"
    }
   ],
   "source": [
    "syp.Matrix(a3[2:5,:]).rref()"
   ]
  },
  {
   "cell_type": "code",
   "execution_count": null,
   "id": "337221e9",
   "metadata": {},
   "outputs": [],
   "source": []
  }
 ],
 "metadata": {
  "kernelspec": {
   "display_name": "Python [conda env:tensorflow] *",
   "language": "python",
   "name": "conda-env-tensorflow-py"
  },
  "language_info": {
   "codemirror_mode": {
    "name": "ipython",
    "version": 3
   },
   "file_extension": ".py",
   "mimetype": "text/x-python",
   "name": "python",
   "nbconvert_exporter": "python",
   "pygments_lexer": "ipython3",
   "version": "3.8.12"
  }
 },
 "nbformat": 4,
 "nbformat_minor": 5
}
